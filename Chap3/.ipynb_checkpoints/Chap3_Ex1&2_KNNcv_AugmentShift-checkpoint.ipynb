{
 "cells": [
  {
   "cell_type": "markdown",
   "id": "bf7981ec",
   "metadata": {},
   "source": [
    "# 1. Select a model that achieves over 97% accuracy on y_test"
   ]
  },
  {
   "cell_type": "code",
   "execution_count": 1,
   "id": "f7525758",
   "metadata": {},
   "outputs": [
    {
     "data": {
      "text/plain": [
       "dict_keys(['data', 'target', 'frame', 'categories', 'feature_names', 'target_names', 'DESCR', 'details', 'url'])"
      ]
     },
     "execution_count": 1,
     "metadata": {},
     "output_type": "execute_result"
    }
   ],
   "source": [
    "from sklearn.datasets import fetch_openml\n",
    "\n",
    "mnist = fetch_openml('mnist_784', version=1)\n",
    "mnist.keys()"
   ]
  },
  {
   "cell_type": "code",
   "execution_count": 2,
   "id": "f6264ebf",
   "metadata": {},
   "outputs": [],
   "source": [
    "import numpy as np\n",
    "\n",
    "X, y = mnist['data'], mnist['target']\n",
    "\n",
    "X = np.array(X)\n",
    "y = y.astype(np.uint8)\n",
    "\n",
    "X_train, X_test = X[:60000], X[60000:]\n",
    "y_train, y_test = y[:60000], y[60000:]"
   ]
  },
  {
   "cell_type": "code",
   "execution_count": 3,
   "id": "99fb4cc3",
   "metadata": {},
   "outputs": [],
   "source": [
    "from sklearn.preprocessing import StandardScaler\n",
    "\n",
    "std_scaler = StandardScaler()\n",
    "X_train_scaled = std_scaler.fit_transform(X_train.astype(np.float64))"
   ]
  },
  {
   "cell_type": "code",
   "execution_count": 4,
   "id": "88c05dff",
   "metadata": {},
   "outputs": [
    {
     "data": {
      "text/plain": [
       "KNeighborsClassifier()"
      ]
     },
     "execution_count": 4,
     "metadata": {},
     "output_type": "execute_result"
    }
   ],
   "source": [
    "from sklearn.neighbors import KNeighborsClassifier\n",
    "\n",
    "knn_clf = KNeighborsClassifier()\n",
    "knn_clf.fit(X_train_scaled, y_train)"
   ]
  },
  {
   "cell_type": "code",
   "execution_count": 5,
   "id": "aa262772",
   "metadata": {},
   "outputs": [
    {
     "data": {
      "text/plain": [
       "array([0.9376, 0.9411, 0.9424])"
      ]
     },
     "execution_count": 5,
     "metadata": {},
     "output_type": "execute_result"
    }
   ],
   "source": [
    "from sklearn.model_selection import cross_val_score, cross_val_predict\n",
    "from sklearn.metrics import precision_score, recall_score, f1_score\n",
    "\n",
    "cross_val_score(knn_clf, X_train_scaled, y_train, cv=3, scoring='accuracy')"
   ]
  },
  {
   "cell_type": "code",
   "execution_count": 6,
   "id": "bc2d66e7",
   "metadata": {},
   "outputs": [
    {
     "name": "stdout",
     "output_type": "stream",
     "text": [
      "CPU times: user 30min 48s, sys: 2min 25s, total: 33min 14s\n",
      "Wall time: 7min 56s\n"
     ]
    },
    {
     "data": {
      "text/plain": [
       "GridSearchCV(cv=3, estimator=KNeighborsClassifier(),\n",
       "             param_grid={'n_neighbors': [3, 5, 11, 17],\n",
       "                         'weights': ['uniform', 'distance']},\n",
       "             scoring='accuracy')"
      ]
     },
     "execution_count": 6,
     "metadata": {},
     "output_type": "execute_result"
    }
   ],
   "source": [
    "from sklearn.model_selection import GridSearchCV\n",
    "\n",
    "param_grid = {'n_neighbors':[3,5,11,17],\n",
    "              'weights':['uniform', 'distance'],}\n",
    "\n",
    "knn_clf = KNeighborsClassifier()\n",
    "grid_search = GridSearchCV(estimator=knn_clf,\n",
    "                           param_grid=param_grid,\n",
    "                           cv=3, scoring='accuracy')\n",
    "\n",
    "%time grid_search.fit(X_train_scaled, y_train)"
   ]
  },
  {
   "cell_type": "code",
   "execution_count": 14,
   "id": "feb07b77",
   "metadata": {},
   "outputs": [
    {
     "data": {
      "text/html": [
       "<div>\n",
       "<style scoped>\n",
       "    .dataframe tbody tr th:only-of-type {\n",
       "        vertical-align: middle;\n",
       "    }\n",
       "\n",
       "    .dataframe tbody tr th {\n",
       "        vertical-align: top;\n",
       "    }\n",
       "\n",
       "    .dataframe thead th {\n",
       "        text-align: right;\n",
       "    }\n",
       "</style>\n",
       "<table border=\"1\" class=\"dataframe\">\n",
       "  <thead>\n",
       "    <tr style=\"text-align: right;\">\n",
       "      <th></th>\n",
       "      <th>rank_test_score</th>\n",
       "      <th>mean_test_score</th>\n",
       "      <th>params</th>\n",
       "    </tr>\n",
       "  </thead>\n",
       "  <tbody>\n",
       "    <tr>\n",
       "      <th>3</th>\n",
       "      <td>1</td>\n",
       "      <td>0.942100</td>\n",
       "      <td>{'n_neighbors': 5, 'weights': 'distance'}</td>\n",
       "    </tr>\n",
       "    <tr>\n",
       "      <th>1</th>\n",
       "      <td>2</td>\n",
       "      <td>0.941567</td>\n",
       "      <td>{'n_neighbors': 3, 'weights': 'distance'}</td>\n",
       "    </tr>\n",
       "    <tr>\n",
       "      <th>2</th>\n",
       "      <td>3</td>\n",
       "      <td>0.940367</td>\n",
       "      <td>{'n_neighbors': 5, 'weights': 'uniform'}</td>\n",
       "    </tr>\n",
       "    <tr>\n",
       "      <th>0</th>\n",
       "      <td>4</td>\n",
       "      <td>0.939667</td>\n",
       "      <td>{'n_neighbors': 3, 'weights': 'uniform'}</td>\n",
       "    </tr>\n",
       "    <tr>\n",
       "      <th>5</th>\n",
       "      <td>5</td>\n",
       "      <td>0.935917</td>\n",
       "      <td>{'n_neighbors': 11, 'weights': 'distance'}</td>\n",
       "    </tr>\n",
       "    <tr>\n",
       "      <th>4</th>\n",
       "      <td>6</td>\n",
       "      <td>0.934467</td>\n",
       "      <td>{'n_neighbors': 11, 'weights': 'uniform'}</td>\n",
       "    </tr>\n",
       "    <tr>\n",
       "      <th>7</th>\n",
       "      <td>7</td>\n",
       "      <td>0.931117</td>\n",
       "      <td>{'n_neighbors': 17, 'weights': 'distance'}</td>\n",
       "    </tr>\n",
       "    <tr>\n",
       "      <th>6</th>\n",
       "      <td>8</td>\n",
       "      <td>0.929317</td>\n",
       "      <td>{'n_neighbors': 17, 'weights': 'uniform'}</td>\n",
       "    </tr>\n",
       "  </tbody>\n",
       "</table>\n",
       "</div>"
      ],
      "text/plain": [
       "   rank_test_score  mean_test_score  \\\n",
       "3                1         0.942100   \n",
       "1                2         0.941567   \n",
       "2                3         0.940367   \n",
       "0                4         0.939667   \n",
       "5                5         0.935917   \n",
       "4                6         0.934467   \n",
       "7                7         0.931117   \n",
       "6                8         0.929317   \n",
       "\n",
       "                                       params  \n",
       "3   {'n_neighbors': 5, 'weights': 'distance'}  \n",
       "1   {'n_neighbors': 3, 'weights': 'distance'}  \n",
       "2    {'n_neighbors': 5, 'weights': 'uniform'}  \n",
       "0    {'n_neighbors': 3, 'weights': 'uniform'}  \n",
       "5  {'n_neighbors': 11, 'weights': 'distance'}  \n",
       "4   {'n_neighbors': 11, 'weights': 'uniform'}  \n",
       "7  {'n_neighbors': 17, 'weights': 'distance'}  \n",
       "6   {'n_neighbors': 17, 'weights': 'uniform'}  "
      ]
     },
     "execution_count": 14,
     "metadata": {},
     "output_type": "execute_result"
    }
   ],
   "source": [
    "cv_results = grid_search.cv_results_\n",
    "\n",
    "import pandas as pd\n",
    "\n",
    "pd.DataFrame(cv_results)[['rank_test_score', 'mean_test_score', 'params']].sort_values('rank_test_score')"
   ]
  },
  {
   "cell_type": "code",
   "execution_count": 16,
   "id": "4b489572",
   "metadata": {},
   "outputs": [
    {
     "data": {
      "text/plain": [
       "array([0.9369, 0.9413, 0.9426])"
      ]
     },
     "execution_count": 16,
     "metadata": {},
     "output_type": "execute_result"
    }
   ],
   "source": [
    "knn_clf2 = KNeighborsClassifier(n_neighbors=7, weights='distance')\n",
    "\n",
    "knn_clf2.fit(X_train_scaled, y_train)\n",
    "cross_val_score(knn_clf2, X_train_scaled, y_train, cv=3, scoring='accuracy')"
   ]
  },
  {
   "cell_type": "code",
   "execution_count": 18,
   "id": "b7570324",
   "metadata": {},
   "outputs": [
    {
     "data": {
      "text/plain": [
       "0.9402666666666667"
      ]
     },
     "execution_count": 18,
     "metadata": {},
     "output_type": "execute_result"
    }
   ],
   "source": [
    "np.average([0.9369, 0.9413, 0.9426])"
   ]
  },
  {
   "cell_type": "code",
   "execution_count": 17,
   "id": "abfad814",
   "metadata": {},
   "outputs": [
    {
     "data": {
      "text/plain": [
       "array([0.9676 , 0.9671 , 0.96755])"
      ]
     },
     "execution_count": 17,
     "metadata": {},
     "output_type": "execute_result"
    }
   ],
   "source": [
    "knn_clf_nonScaled = KNeighborsClassifier()\n",
    "knn_clf_nonScaled.fit(X_train, y_train)\n",
    "cross_val_score(knn_clf_nonScaled, X_train, y_train, cv=3, scoring='accuracy')"
   ]
  },
  {
   "cell_type": "code",
   "execution_count": 19,
   "id": "feee7d3a",
   "metadata": {},
   "outputs": [
    {
     "data": {
      "text/plain": [
       "0.9674166666666667"
      ]
     },
     "execution_count": 19,
     "metadata": {},
     "output_type": "execute_result"
    }
   ],
   "source": [
    "np.average([0.9676 , 0.9671 , 0.96755])"
   ]
  },
  {
   "cell_type": "code",
   "execution_count": 20,
   "id": "bb061b2c",
   "metadata": {},
   "outputs": [
    {
     "data": {
      "text/plain": [
       "array([0.967 , 0.9656, 0.9674])"
      ]
     },
     "execution_count": 20,
     "metadata": {},
     "output_type": "execute_result"
    }
   ],
   "source": [
    "knn_clf_nonScaled_7K = KNeighborsClassifier(n_neighbors=7, weights='distance')\n",
    "knn_clf_nonScaled_7K.fit(X_train, y_train)\n",
    "cross_val_score(knn_clf_nonScaled_7K, X_train, y_train, cv=3, scoring='accuracy')"
   ]
  },
  {
   "cell_type": "code",
   "execution_count": 21,
   "id": "b45cf1c5",
   "metadata": {},
   "outputs": [
    {
     "data": {
      "text/plain": [
       "0.9666666666666667"
      ]
     },
     "execution_count": 21,
     "metadata": {},
     "output_type": "execute_result"
    }
   ],
   "source": [
    "np.average([0.967 , 0.9656, 0.9674])"
   ]
  },
  {
   "cell_type": "code",
   "execution_count": 28,
   "id": "60aca7a9",
   "metadata": {},
   "outputs": [
    {
     "data": {
      "text/plain": [
       "({'n_neighbors': 5, 'weights': 'distance'},\n",
       " KNeighborsClassifier(weights='distance'))"
      ]
     },
     "execution_count": 28,
     "metadata": {},
     "output_type": "execute_result"
    }
   ],
   "source": [
    "grid_search.best_params_, grid_search.best_estimator_"
   ]
  },
  {
   "cell_type": "code",
   "execution_count": 29,
   "id": "04e8da44",
   "metadata": {},
   "outputs": [],
   "source": [
    "knn_clf_k5_dist_scaled = grid_search.best_estimator_"
   ]
  },
  {
   "cell_type": "code",
   "execution_count": 31,
   "id": "d7287c20",
   "metadata": {},
   "outputs": [],
   "source": [
    "def pred_accuracy(clf, X, y):\n",
    "    y_pred = clf.predict(X)\n",
    "    return sum(y_pred == y)/len(y)\n",
    "\n",
    "acc_k5_unif_scaled = pred_accuracy(knn_clf.fit(X_train, y_train), X_test, y_test)\n",
    "acc_k5_dist_scaled = pred_accuracy(knn_clf_k5_dist_scaled, X_test, y_test)\n",
    "\n",
    "acc_k5_unif_nonScaled = pred_accuracy(knn_clf_nonScaled, X_test, y_test)\n",
    "acc_k5_dist_nonScaled = pred_accuracy(KNeighborsClassifier(weights='distance').fit(X_train, y_train),\n",
    "                                    X_test, y_test)\n",
    "\n",
    "acc_k7_unif_nonScaled = pred_accuracy(knn_clf_nonScaled_7K, X_test, y_test)\n",
    "acc_k7_dist_nonScaled = pred_accuracy(KNeighborsClassifier(n_neighbors=7,\n",
    "                                                          weights='distance').fit(X_train, y_train),\n",
    "                                     X_test, y_test)\n"
   ]
  },
  {
   "cell_type": "code",
   "execution_count": 32,
   "id": "c7f1229a",
   "metadata": {},
   "outputs": [
    {
     "data": {
      "text/plain": [
       "(0.97, 0.97)"
      ]
     },
     "execution_count": 32,
     "metadata": {},
     "output_type": "execute_result"
    }
   ],
   "source": [
    "acc_k7_dist_nonScaled, acc_k7_unif_nonScaled"
   ]
  },
  {
   "cell_type": "code",
   "execution_count": 43,
   "id": "5556beac",
   "metadata": {},
   "outputs": [
    {
     "data": {
      "text/plain": [
       "array([0.9115177 , 0.93819382, 0.95889589])"
      ]
     },
     "execution_count": 43,
     "metadata": {},
     "output_type": "execute_result"
    }
   ],
   "source": [
    "knn_clf_nonScaled_7k_dist = KNeighborsClassifier(n_neighbors=7, weights='distance')\n",
    "knn_clf_nonScaled_7k_dist.fit(X_train_scaled, y_train)\n",
    "\n",
    "cross_val_score(knn_clf_nonScaled_7k_dist, X_test, y_test, cv=3, scoring='accuracy')"
   ]
  },
  {
   "cell_type": "code",
   "execution_count": 44,
   "id": "0d68addd",
   "metadata": {},
   "outputs": [
    {
     "data": {
      "text/plain": [
       "8115"
      ]
     },
     "execution_count": 44,
     "metadata": {},
     "output_type": "execute_result"
    }
   ],
   "source": [
    "y_pred = knn_clf_nonScaled_7k_dist.predict(X_test)\n",
    "\n",
    "sum(y_pred == y_test)"
   ]
  },
  {
   "cell_type": "code",
   "execution_count": 45,
   "id": "191fc0ba",
   "metadata": {},
   "outputs": [],
   "source": [
    "new_clf = KNeighborsClassifier(n_neighbors=7, weights='distance')\n",
    "new_clf.fit(X_train, y_train)\n",
    "\n",
    "y_pred = new_clf.predict(X_test)"
   ]
  },
  {
   "cell_type": "code",
   "execution_count": 90,
   "id": "a5431738",
   "metadata": {},
   "outputs": [
    {
     "data": {
      "text/plain": [
       "0.97"
      ]
     },
     "execution_count": 90,
     "metadata": {},
     "output_type": "execute_result"
    }
   ],
   "source": [
    "pred_accuracy(new_clf, X_test, y_test)"
   ]
  },
  {
   "cell_type": "markdown",
   "id": "8f3682b1",
   "metadata": {},
   "source": [
    "`new_clf`: n_neighbors = 7, weights = 'distance', trained_on = X_train (non-scaled)"
   ]
  },
  {
   "cell_type": "markdown",
   "id": "46183947",
   "metadata": {},
   "source": [
    "## Error Analysis"
   ]
  },
  {
   "cell_type": "code",
   "execution_count": 49,
   "id": "3968d9a0",
   "metadata": {},
   "outputs": [],
   "source": [
    "test_errors = X_test[y_pred != y_test]"
   ]
  },
  {
   "cell_type": "code",
   "execution_count": 58,
   "id": "259bd7e4",
   "metadata": {
    "collapsed": true
   },
   "outputs": [
    {
     "data": {
      "text/plain": [
       "[77,\n",
       " 115,\n",
       " 195,\n",
       " 241,\n",
       " 247,\n",
       " 300,\n",
       " 318,\n",
       " 320,\n",
       " 321,\n",
       " 341,\n",
       " 358,\n",
       " 381,\n",
       " 444,\n",
       " 445,\n",
       " 464,\n",
       " 495,\n",
       " 542,\n",
       " 551,\n",
       " 582,\n",
       " 583,\n",
       " 628,\n",
       " 635,\n",
       " 646,\n",
       " 659,\n",
       " 707,\n",
       " 740,\n",
       " 791,\n",
       " 839,\n",
       " 844,\n",
       " 924,\n",
       " 938,\n",
       " 939,\n",
       " 947,\n",
       " 951,\n",
       " 957,\n",
       " 965,\n",
       " 1014,\n",
       " 1039,\n",
       " 1062,\n",
       " 1068,\n",
       " 1082,\n",
       " 1107,\n",
       " 1112,\n",
       " 1192,\n",
       " 1202,\n",
       " 1226,\n",
       " 1242,\n",
       " 1247,\n",
       " 1260,\n",
       " 1289,\n",
       " 1299,\n",
       " 1319,\n",
       " 1326,\n",
       " 1364,\n",
       " 1378,\n",
       " 1394,\n",
       " 1425,\n",
       " 1433,\n",
       " 1465,\n",
       " 1500,\n",
       " 1522,\n",
       " 1530,\n",
       " 1549,\n",
       " 1553,\n",
       " 1559,\n",
       " 1681,\n",
       " 1701,\n",
       " 1709,\n",
       " 1716,\n",
       " 1717,\n",
       " 1721,\n",
       " 1737,\n",
       " 1754,\n",
       " 1782,\n",
       " 1790,\n",
       " 1813,\n",
       " 1823,\n",
       " 1850,\n",
       " 1865,\n",
       " 1878,\n",
       " 1901,\n",
       " 1955,\n",
       " 1970,\n",
       " 1984,\n",
       " 2043,\n",
       " 2044,\n",
       " 2052,\n",
       " 2053,\n",
       " 2063,\n",
       " 2093,\n",
       " 2098,\n",
       " 2109,\n",
       " 2118,\n",
       " 2129,\n",
       " 2130,\n",
       " 2135,\n",
       " 2168,\n",
       " 2177,\n",
       " 2182,\n",
       " 2197,\n",
       " 2224,\n",
       " 2237,\n",
       " 2293,\n",
       " 2299,\n",
       " 2325,\n",
       " 2339,\n",
       " 2387,\n",
       " 2393,\n",
       " 2406,\n",
       " 2422,\n",
       " 2437,\n",
       " 2447,\n",
       " 2454,\n",
       " 2462,\n",
       " 2488,\n",
       " 2533,\n",
       " 2582,\n",
       " 2597,\n",
       " 2607,\n",
       " 2648,\n",
       " 2654,\n",
       " 2896,\n",
       " 2901,\n",
       " 2927,\n",
       " 2939,\n",
       " 2952,\n",
       " 2953,\n",
       " 3005,\n",
       " 3060,\n",
       " 3062,\n",
       " 3073,\n",
       " 3117,\n",
       " 3160,\n",
       " 3206,\n",
       " 3225,\n",
       " 3262,\n",
       " 3269,\n",
       " 3333,\n",
       " 3369,\n",
       " 3384,\n",
       " 3388,\n",
       " 3405,\n",
       " 3437,\n",
       " 3456,\n",
       " 3474,\n",
       " 3475,\n",
       " 3490,\n",
       " 3503,\n",
       " 3520,\n",
       " 3558,\n",
       " 3559,\n",
       " 3597,\n",
       " 3599,\n",
       " 3629,\n",
       " 3654,\n",
       " 3662,\n",
       " 3664,\n",
       " 3702,\n",
       " 3751,\n",
       " 3757,\n",
       " 3767,\n",
       " 3780,\n",
       " 3796,\n",
       " 3808,\n",
       " 3811,\n",
       " 3838,\n",
       " 3853,\n",
       " 3893,\n",
       " 3902,\n",
       " 3926,\n",
       " 3941,\n",
       " 3976,\n",
       " 4017,\n",
       " 4065,\n",
       " 4075,\n",
       " 4078,\n",
       " 4116,\n",
       " 4140,\n",
       " 4163,\n",
       " 4176,\n",
       " 4194,\n",
       " 4199,\n",
       " 4224,\n",
       " 4248,\n",
       " 4289,\n",
       " 4294,\n",
       " 4306,\n",
       " 4313,\n",
       " 4317,\n",
       " 4341,\n",
       " 4344,\n",
       " 4369,\n",
       " 4374,\n",
       " 4382,\n",
       " 4433,\n",
       " 4435,\n",
       " 4451,\n",
       " 4497,\n",
       " 4500,\n",
       " 4504,\n",
       " 4521,\n",
       " 4575,\n",
       " 4578,\n",
       " 4635,\n",
       " 4639,\n",
       " 4671,\n",
       " 4690,\n",
       " 4699,\n",
       " 4712,\n",
       " 4737,\n",
       " 4740,\n",
       " 4785,\n",
       " 4807,\n",
       " 4814,\n",
       " 4823,\n",
       " 4837,\n",
       " 4860,\n",
       " 4879,\n",
       " 4886,\n",
       " 4890,\n",
       " 4966,\n",
       " 4978,\n",
       " 5001,\n",
       " 5176,\n",
       " 5209,\n",
       " 5278,\n",
       " 5600,\n",
       " 5691,\n",
       " 5714,\n",
       " 5720,\n",
       " 5734,\n",
       " 5835,\n",
       " 5841,\n",
       " 5887,\n",
       " 5936,\n",
       " 5955,\n",
       " 5973,\n",
       " 6011,\n",
       " 6023,\n",
       " 6035,\n",
       " 6059,\n",
       " 6071,\n",
       " 6081,\n",
       " 6166,\n",
       " 6172,\n",
       " 6173,\n",
       " 6505,\n",
       " 6555,\n",
       " 6569,\n",
       " 6571,\n",
       " 6576,\n",
       " 6577,\n",
       " 6597,\n",
       " 6598,\n",
       " 6651,\n",
       " 6755,\n",
       " 7121,\n",
       " 7233,\n",
       " 7432,\n",
       " 7434,\n",
       " 7492,\n",
       " 7637,\n",
       " 7821,\n",
       " 8094,\n",
       " 8246,\n",
       " 8277,\n",
       " 8279,\n",
       " 8325,\n",
       " 8408,\n",
       " 8416,\n",
       " 8520,\n",
       " 8527,\n",
       " 9009,\n",
       " 9015,\n",
       " 9280,\n",
       " 9544,\n",
       " 9613,\n",
       " 9624,\n",
       " 9634,\n",
       " 9642,\n",
       " 9655,\n",
       " 9664,\n",
       " 9686,\n",
       " 9719,\n",
       " 9729,\n",
       " 9741,\n",
       " 9745,\n",
       " 9751,\n",
       " 9768,\n",
       " 9770,\n",
       " 9779,\n",
       " 9808,\n",
       " 9811,\n",
       " 9839,\n",
       " 9867,\n",
       " 9879,\n",
       " 9904,\n",
       " 9905,\n",
       " 9944,\n",
       " 9982]"
      ]
     },
     "execution_count": 58,
     "metadata": {},
     "output_type": "execute_result"
    }
   ],
   "source": [
    "a = y_pred != y_test\n",
    "error_idx = []\n",
    "for i, v in enumerate(a):\n",
    "    if v:\n",
    "        error_idx.append(i)\n",
    "        \n",
    "error_idx"
   ]
  },
  {
   "cell_type": "code",
   "execution_count": 59,
   "id": "c989314e",
   "metadata": {},
   "outputs": [
    {
     "data": {
      "text/plain": [
       "300"
      ]
     },
     "execution_count": 59,
     "metadata": {},
     "output_type": "execute_result"
    }
   ],
   "source": [
    "len(error_idx)"
   ]
  },
  {
   "cell_type": "code",
   "execution_count": 93,
   "id": "16461eb2",
   "metadata": {},
   "outputs": [
    {
     "name": "stdout",
     "output_type": "stream",
     "text": [
      "Groundtruth: 4\n",
      "Prediction: 9\n"
     ]
    },
    {
     "data": {
      "image/png": "[encoded data removed]",
      "text/plain": [
       "<Figure size 432x288 with 1 Axes>"
      ]
     },
     "metadata": {
      "needs_background": "light"
     },
     "output_type": "display_data"
    }
   ],
   "source": [
    "import matplotlib.pyplot as plt\n",
    "\n",
    "rand_i = np.random.choice(error_idx)\n",
    "#print(rand_i)\n",
    "img = X_test[rand_i].reshape(28,28)\n",
    "plt.imshow(img, cmap='binary')\n",
    "print(f\"Groundtruth: {list(y_test)[rand_i]}\")\n",
    "print(f\"Prediction: {y_pred[rand_i]}\")"
   ]
  },
  {
   "cell_type": "markdown",
   "id": "6a63c805",
   "metadata": {},
   "source": [
    "# 2. Image shift (4 directions) -> Data Augmentation\n",
    "\n",
    "- Write a function that can shift an MNIST image in any direction (left, right, up, or down) by one pixel. \n",
    "- Then, for each image in the training set, create four shifted copies (one per direction) and add them to the training set. \n",
    "- Finally, train your best model on this expanded training set and measure its accuracy on the test set. "
   ]
  },
  {
   "cell_type": "code",
   "execution_count": 105,
   "id": "128b3311",
   "metadata": {},
   "outputs": [
    {
     "data": {
      "text/plain": [
       "Text(0.5, 1.0, 'Shifted')"
      ]
     },
     "execution_count": 105,
     "metadata": {},
     "output_type": "execute_result"
    },
    {
     "data": {
      "image/png": "[encoded data removed]",
      "text/plain": [
       "<Figure size 432x288 with 2 Axes>"
      ]
     },
     "metadata": {
      "needs_background": "light"
     },
     "output_type": "display_data"
    }
   ],
   "source": [
    "from scipy.ndimage.interpolation import shift\n",
    "\n",
    "i = np.random.choice(range(60000))\n",
    "image = X_train[i].reshape(28,28)\n",
    "\n",
    "shifted_img = shift(image, shift=[-3, 0])\n",
    "plt.subplot(121)\n",
    "plt.imshow(image, cmap='binary')\n",
    "plt.title('Original')\n",
    "plt.subplot(122)\n",
    "plt.imshow(shifted_img, cmap='binary')\n",
    "plt.title('Shifted')"
   ]
  },
  {
   "cell_type": "code",
   "execution_count": 116,
   "id": "45bdb3a3",
   "metadata": {},
   "outputs": [
    {
     "data": {
      "image/png": "[encoded data removed]",
      "text/plain": [
       "<Figure size 432x288 with 2 Axes>"
      ]
     },
     "metadata": {
      "needs_background": "light"
     },
     "output_type": "display_data"
    }
   ],
   "source": [
    "def shift_n_pixels(img, n):\n",
    "    '''n: int or [x, y]. x is <n_pixels_horizontal> and y is <n_pixels_vertical>.\n",
    "    If n (or x, y) is >0: Shift image forward and downward n (or x, y) pixels.\n",
    "    If n (or x, y) is <0: Shift image backward and upward n (or x, y) pixels.\n",
    "        \n",
    "    ''' \n",
    "    return shift(img, n)\n",
    "\n",
    "a = shift_n_pixels(img, -3)\n",
    "\n",
    "def plot2img(img1, img2, title1=None, title2=None, cmap=None):\n",
    "    plt.subplot(121)\n",
    "    plt.imshow(img1, cmap=cmap)\n",
    "    plt.title(title1)\n",
    "    \n",
    "    plt.subplot(122)\n",
    "    plt.imshow(img2, cmap=cmap)\n",
    "    plt.title(title2)\n",
    "    \n",
    "\n",
    "plot2img(img, a, title1='Original', title2='Shifted [-3,-3]', cmap='binary')"
   ]
  },
  {
   "cell_type": "code",
   "execution_count": 121,
   "id": "3e8a0787",
   "metadata": {},
   "outputs": [
    {
     "data": {
      "image/png": "[encoded data removed]",
      "text/plain": [
       "<Figure size 432x288 with 2 Axes>"
      ]
     },
     "metadata": {
      "needs_background": "light"
     },
     "output_type": "display_data"
    }
   ],
   "source": [
    "def shift_plot(img, n, cmap=None, return_shifted=False):\n",
    "    shifted_img = shift_n_pixels(img, n)\n",
    "\n",
    "    plot2img(img, shifted_img, title1='Original', title2 = f\"Shifted {n}\", cmap=cmap)\n",
    "\n",
    "    if return_shifted:    \n",
    "        return shifted_img\n",
    "    \n",
    "shift_plot(img, [-3,-1], cmap='binary')"
   ]
  },
  {
   "cell_type": "markdown",
   "id": "de296935",
   "metadata": {},
   "source": [
    "## Augment 4 shifted per training image"
   ]
  },
  {
   "cell_type": "code",
   "execution_count": 169,
   "id": "c756fb8e",
   "metadata": {},
   "outputs": [
    {
     "data": {
      "image/png": "[encoded data removed]",
      "text/plain": [
       "<Figure size 432x288 with 2 Axes>"
      ]
     },
     "metadata": {
      "needs_background": "light"
     },
     "output_type": "display_data"
    }
   ],
   "source": [
    "img = X_train[0].reshape(28,28)\n",
    "\n",
    "shift_img = shift(img, [0,3])\n",
    "roll_img = np.roll(img, [0,3], axis=(0,1))\n",
    "\n",
    "plot2img(shift_img, roll_img, title1='Shift', title2='Roll', cmap='binary')\n",
    "\n",
    "\n",
    "\n"
   ]
  },
  {
   "cell_type": "code",
   "execution_count": 181,
   "id": "e62f6923",
   "metadata": {},
   "outputs": [
    {
     "name": "stdout",
     "output_type": "stream",
     "text": [
      "CPU times: user 1.52 ms, sys: 652 µs, total: 2.17 ms\n",
      "Wall time: 1.36 ms\n",
      "CPU times: user 325 µs, sys: 358 µs, total: 683 µs\n",
      "Wall time: 396 µs\n"
     ]
    }
   ],
   "source": [
    "shift_time = %time shift(img, [0,1])\n",
    "roll_time = %time np.roll(img, [0,1], axis=(0,1))"
   ]
  },
  {
   "cell_type": "markdown",
   "id": "924ac5e0",
   "metadata": {},
   "source": [
    "### `np.roll` is much faster than `shift()`"
   ]
  },
  {
   "cell_type": "code",
   "execution_count": 185,
   "id": "f013e70d",
   "metadata": {
    "scrolled": true
   },
   "outputs": [
    {
     "name": "stdout",
     "output_type": "stream",
     "text": [
      "Iter 0\n",
      "Iter 100\n",
      "Iter 200\n",
      "Iter 300\n",
      "Iter 400\n",
      "Iter 500\n",
      "Iter 600\n",
      "Iter 700\n",
      "Iter 800\n",
      "Iter 900\n",
      "Iter 1000\n",
      "Iter 1100\n",
      "Iter 1200\n",
      "Iter 1300\n",
      "Iter 1400\n",
      "Iter 1500\n",
      "Iter 1600\n",
      "Iter 1700\n",
      "Iter 1800\n",
      "Iter 1900\n",
      "Iter 2000\n",
      "Iter 2100\n",
      "Iter 2200\n",
      "Iter 2300\n",
      "Iter 2400\n",
      "Iter 2500\n",
      "Iter 2600\n",
      "Iter 2700\n",
      "Iter 2800\n",
      "Iter 2900\n",
      "Iter 3000\n",
      "Iter 3100\n",
      "Iter 3200\n",
      "Iter 3300\n",
      "Iter 3400\n",
      "Iter 3500\n",
      "Iter 3600\n"
     ]
    },
    {
     "ename": "KeyboardInterrupt",
     "evalue": "",
     "output_type": "error",
     "traceback": [
      "\u001b[0;31m---------------------------------------------------------------------------\u001b[0m",
      "\u001b[0;31mKeyboardInterrupt\u001b[0m                         Traceback (most recent call last)",
      "\u001b[0;32m/var/folders/42/vch7h02j3pn0q7mmtgq987gc0000gn/T/ipykernel_12938/3420299276.py\u001b[0m in \u001b[0;36m<module>\u001b[0;34m\u001b[0m\n\u001b[1;32m     17\u001b[0m     \u001b[0;32mreturn\u001b[0m \u001b[0mX_augmt\u001b[0m\u001b[0;34m,\u001b[0m \u001b[0my_augmt\u001b[0m\u001b[0;34m\u001b[0m\u001b[0;34m\u001b[0m\u001b[0m\n\u001b[1;32m     18\u001b[0m \u001b[0;34m\u001b[0m\u001b[0m\n\u001b[0;32m---> 19\u001b[0;31m \u001b[0mX_augmt\u001b[0m\u001b[0;34m,\u001b[0m \u001b[0my_augmt\u001b[0m \u001b[0;34m=\u001b[0m \u001b[0maugment_shift_trainSet\u001b[0m\u001b[0;34m(\u001b[0m\u001b[0mX_train\u001b[0m\u001b[0;34m,\u001b[0m \u001b[0my_train\u001b[0m\u001b[0;34m,\u001b[0m \u001b[0mn\u001b[0m\u001b[0;34m=\u001b[0m\u001b[0;36m1\u001b[0m\u001b[0;34m)\u001b[0m\u001b[0;34m\u001b[0m\u001b[0;34m\u001b[0m\u001b[0m\n\u001b[0m",
      "\u001b[0;32m/var/folders/42/vch7h02j3pn0q7mmtgq987gc0000gn/T/ipykernel_12938/3420299276.py\u001b[0m in \u001b[0;36maugment_shift_trainSet\u001b[0;34m(X, y, n)\u001b[0m\n\u001b[1;32m     11\u001b[0m     \u001b[0;32mfor\u001b[0m \u001b[0mi\u001b[0m\u001b[0;34m,\u001b[0m \u001b[0mx\u001b[0m \u001b[0;32min\u001b[0m \u001b[0menumerate\u001b[0m\u001b[0;34m(\u001b[0m\u001b[0mX\u001b[0m\u001b[0;34m)\u001b[0m\u001b[0;34m:\u001b[0m\u001b[0;34m\u001b[0m\u001b[0;34m\u001b[0m\u001b[0m\n\u001b[1;32m     12\u001b[0m         \u001b[0mx_l\u001b[0m\u001b[0;34m,\u001b[0m \u001b[0mx_u\u001b[0m\u001b[0;34m,\u001b[0m \u001b[0mx_r\u001b[0m\u001b[0;34m,\u001b[0m \u001b[0mx_d\u001b[0m \u001b[0;34m=\u001b[0m \u001b[0mshift4dir\u001b[0m\u001b[0;34m(\u001b[0m\u001b[0mx\u001b[0m\u001b[0;34m.\u001b[0m\u001b[0mreshape\u001b[0m\u001b[0;34m(\u001b[0m\u001b[0;36m28\u001b[0m\u001b[0;34m,\u001b[0m\u001b[0;36m28\u001b[0m\u001b[0;34m)\u001b[0m\u001b[0;34m,\u001b[0m \u001b[0mn\u001b[0m\u001b[0;34m=\u001b[0m\u001b[0mn\u001b[0m\u001b[0;34m)\u001b[0m\u001b[0;34m\u001b[0m\u001b[0;34m\u001b[0m\u001b[0m\n\u001b[0;32m---> 13\u001b[0;31m         \u001b[0mnp\u001b[0m\u001b[0;34m.\u001b[0m\u001b[0mappend\u001b[0m\u001b[0;34m(\u001b[0m\u001b[0mX_augmt\u001b[0m\u001b[0;34m,\u001b[0m \u001b[0;34m[\u001b[0m\u001b[0mx_l\u001b[0m\u001b[0;34m,\u001b[0m \u001b[0mx_u\u001b[0m\u001b[0;34m,\u001b[0m \u001b[0mx_r\u001b[0m\u001b[0;34m,\u001b[0m \u001b[0mx_d\u001b[0m\u001b[0;34m]\u001b[0m\u001b[0;34m,\u001b[0m \u001b[0maxis\u001b[0m\u001b[0;34m=\u001b[0m\u001b[0;36m0\u001b[0m\u001b[0;34m)\u001b[0m\u001b[0;34m\u001b[0m\u001b[0;34m\u001b[0m\u001b[0m\n\u001b[0m\u001b[1;32m     14\u001b[0m         \u001b[0mnp\u001b[0m\u001b[0;34m.\u001b[0m\u001b[0mappend\u001b[0m\u001b[0;34m(\u001b[0m\u001b[0my_augmt\u001b[0m\u001b[0;34m,\u001b[0m \u001b[0;34m[\u001b[0m\u001b[0my_train\u001b[0m\u001b[0;34m[\u001b[0m\u001b[0mi\u001b[0m\u001b[0;34m]\u001b[0m\u001b[0;34m]\u001b[0m\u001b[0;34m*\u001b[0m\u001b[0;36m4\u001b[0m\u001b[0;34m,\u001b[0m \u001b[0maxis\u001b[0m\u001b[0;34m=\u001b[0m\u001b[0;36m0\u001b[0m\u001b[0;34m)\u001b[0m\u001b[0;34m\u001b[0m\u001b[0;34m\u001b[0m\u001b[0m\n\u001b[1;32m     15\u001b[0m         \u001b[0;32mif\u001b[0m \u001b[0mi\u001b[0m\u001b[0;34m%\u001b[0m\u001b[0;36m100\u001b[0m \u001b[0;34m==\u001b[0m \u001b[0;36m0\u001b[0m\u001b[0;34m:\u001b[0m\u001b[0;34m\u001b[0m\u001b[0;34m\u001b[0m\u001b[0m\n",
      "\u001b[0;32m<__array_function__ internals>\u001b[0m in \u001b[0;36mappend\u001b[0;34m(*args, **kwargs)\u001b[0m\n",
      "\u001b[0;32m~/JASPER/Study/ML/env/lib/python3.8/site-packages/numpy/lib/function_base.py\u001b[0m in \u001b[0;36mappend\u001b[0;34m(arr, values, axis)\u001b[0m\n\u001b[1;32m   4815\u001b[0m         \u001b[0mvalues\u001b[0m \u001b[0;34m=\u001b[0m \u001b[0mravel\u001b[0m\u001b[0;34m(\u001b[0m\u001b[0mvalues\u001b[0m\u001b[0;34m)\u001b[0m\u001b[0;34m\u001b[0m\u001b[0;34m\u001b[0m\u001b[0m\n\u001b[1;32m   4816\u001b[0m         \u001b[0maxis\u001b[0m \u001b[0;34m=\u001b[0m \u001b[0marr\u001b[0m\u001b[0;34m.\u001b[0m\u001b[0mndim\u001b[0m\u001b[0;34m-\u001b[0m\u001b[0;36m1\u001b[0m\u001b[0;34m\u001b[0m\u001b[0;34m\u001b[0m\u001b[0m\n\u001b[0;32m-> 4817\u001b[0;31m     \u001b[0;32mreturn\u001b[0m \u001b[0mconcatenate\u001b[0m\u001b[0;34m(\u001b[0m\u001b[0;34m(\u001b[0m\u001b[0marr\u001b[0m\u001b[0;34m,\u001b[0m \u001b[0mvalues\u001b[0m\u001b[0;34m)\u001b[0m\u001b[0;34m,\u001b[0m \u001b[0maxis\u001b[0m\u001b[0;34m=\u001b[0m\u001b[0maxis\u001b[0m\u001b[0;34m)\u001b[0m\u001b[0;34m\u001b[0m\u001b[0;34m\u001b[0m\u001b[0m\n\u001b[0m\u001b[1;32m   4818\u001b[0m \u001b[0;34m\u001b[0m\u001b[0m\n\u001b[1;32m   4819\u001b[0m \u001b[0;34m\u001b[0m\u001b[0m\n",
      "\u001b[0;32m<__array_function__ internals>\u001b[0m in \u001b[0;36mconcatenate\u001b[0;34m(*args, **kwargs)\u001b[0m\n",
      "\u001b[0;31mKeyboardInterrupt\u001b[0m: "
     ]
    }
   ],
   "source": [
    "def shift4dir(img, n=1):\n",
    "    shift_left = np.roll(img, [-1,0], axis=(0,1))\n",
    "    shift_right = np.roll(img, [1,0], axis=(0,1))\n",
    "    shift_up = np.roll(img, [0,-1], axis=(0,1))\n",
    "    shift_down = np.roll(img, [0,1], axis=(0,1))\n",
    "    \n",
    "    return shift_left.reshape(784), shift_up.reshape(784), shift_right.reshape(784), shift_down.reshape(784)\n",
    "\n",
    "def augment_shift_trainSet(X, y, n=1):\n",
    "    X_augmt, y_augmt = np.array(X), np.array(y)\n",
    "    for i, x in enumerate(X):\n",
    "        x_l, x_u, x_r, x_d = shift4dir(x.reshape(28,28), n=n)\n",
    "        np.append(X_augmt, [x_l, x_u, x_r, x_d], axis=0)\n",
    "        np.append(y_augmt, [y_train[i]]*4, axis=0)\n",
    "        if i%100 == 0:\n",
    "            print(f\"Iter {i}\")\n",
    "    return X_augmt, y_augmt\n",
    "\n",
    "X_augmt, y_augmt = augment_shift_trainSet(X_train, y_train, n=1)"
   ]
  },
  {
   "cell_type": "code",
   "execution_count": 186,
   "id": "2d418320",
   "metadata": {},
   "outputs": [],
   "source": [
    "def shift_digit(digit_array, dx, dy, new=0):\n",
    "    return shift(digit_array.reshape(28, 28), [dy, dx], cval=new).reshape(784)\n",
    "\n",
    "X_train_expanded = [X_train]\n",
    "y_train_expanded = [y_train]\n",
    "count = 0\n",
    "for dx, dy in ((1, 0), (-1, 0), (0, 1), (0, -1)):\n",
    "    shifted_images = np.apply_along_axis(shift_digit, axis=1, arr=X_train, dx=dx, dy=dy)\n",
    "    X_train_expanded.append(shifted_images)\n",
    "    y_train_expanded.append(y_train)\n",
    "    count += 1\n",
    "    if count%100==0:\n",
    "        print(f\"{count}\")\n",
    "\n"
   ]
  },
  {
   "cell_type": "code",
   "execution_count": 190,
   "id": "f9610056",
   "metadata": {},
   "outputs": [
    {
     "data": {
      "text/plain": [
       "((300000, 784), (300000,))"
      ]
     },
     "execution_count": 190,
     "metadata": {},
     "output_type": "execute_result"
    }
   ],
   "source": [
    "X_train_expanded = np.concatenate(X_train_expanded)\n",
    "y_train_expanded = np.concatenate(y_train_expanded)\n",
    "X_train_expanded.shape, y_train_expanded.shape"
   ]
  },
  {
   "cell_type": "code",
   "execution_count": 191,
   "id": "1588d6bd",
   "metadata": {},
   "outputs": [
    {
     "data": {
      "text/plain": [
       "0.9774"
      ]
     },
     "execution_count": 191,
     "metadata": {},
     "output_type": "execute_result"
    }
   ],
   "source": [
    "knn = KNeighborsClassifier(n_neighbors=7, weights='distance')\n",
    "knn.fit(X_train_expanded, y_train_expanded)\n",
    "\n",
    "y_pred = knn.predict(X_test)\n",
    "\n",
    "sum(y_pred == y_test)/len(y_test)"
   ]
  },
  {
   "cell_type": "code",
   "execution_count": 192,
   "id": "b7a20084",
   "metadata": {},
   "outputs": [
    {
     "data": {
      "text/plain": [
       "array([9], dtype=uint8)"
      ]
     },
     "execution_count": 192,
     "metadata": {},
     "output_type": "execute_result"
    }
   ],
   "source": [
    "ambiguous_digit = X_test[2589]\n",
    "knn.predict([ambiguous_digit])"
   ]
  },
  {
   "cell_type": "code",
   "execution_count": 193,
   "id": "87be10b6",
   "metadata": {},
   "outputs": [
    {
     "data": {
      "text/plain": [
       "<matplotlib.image.AxesImage at 0x2806248b0>"
      ]
     },
     "execution_count": 193,
     "metadata": {},
     "output_type": "execute_result"
    },
    {
     "data": {
      "image/png": "[encoded data removed]",
      "text/plain": [
       "<Figure size 432x288 with 1 Axes>"
      ]
     },
     "metadata": {
      "needs_background": "light"
     },
     "output_type": "display_data"
    }
   ],
   "source": [
    "plt.imshow(ambiguous_digit.reshape(28,28), cmap='binary')"
   ]
  },
  {
   "cell_type": "code",
   "execution_count": null,
   "id": "df1024eb",
   "metadata": {},
   "outputs": [],
   "source": []
  }
 ],
 "metadata": {
  "kernelspec": {
   "display_name": "Python 3 (ipykernel)",
   "language": "python",
   "name": "python3"
  },
  "language_info": {
   "codemirror_mode": {
    "name": "ipython",
    "version": 3
   },
   "file_extension": ".py",
   "mimetype": "text/x-python",
   "name": "python",
   "nbconvert_exporter": "python",
   "pygments_lexer": "ipython3",
   "version": "3.8.9"
  }
 },
 "nbformat": 4,
 "nbformat_minor": 5
}
