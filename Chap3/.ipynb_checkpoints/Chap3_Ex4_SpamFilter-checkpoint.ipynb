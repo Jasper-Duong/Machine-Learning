{
 "cells": [
  {
   "cell_type": "markdown",
   "id": "a9855e57",
   "metadata": {},
   "source": [
    "# Spam Email Classifier"
   ]
  },
  {
   "cell_type": "markdown",
   "id": "e1d0dc72",
   "metadata": {},
   "source": [
    "- Download examples of spam and ham from Apache SpamAssassin’s public datasets.\n",
    "- Unzip the datasets and familiarize yourself with the data format.\n",
    "- Split the datasets into a training set and a test set.\n",
    "- Write a data preparation pipeline to convert each email into a feature vector. Your preparation pipeline should transform an email into a (sparse) vector indicating the presence or absence of each possible word. For example, if all emails only ever contain four words, “Hello,” “how,” “are,” “you,” then the email “Hello you Hello Hello you” would be converted into a vector [1, 0, 0, 1] (meaning [“Hello” is present, “how” is absent, “are” is absent, “you” is present]), or [3, 0, 0, 2] if you prefer to count the number of occurrences of each word.\n",
    "- You may want to add hyperparameters to your preparation pipeline to control whether or not to strip off email headers, convert each email to lowercase, remove punctuation, replace all URLs with “URL,” replace all numbers with “NUMBER,” or even perform stemming (i.e., trim off word endings; there are Python libraries available to do this).\n",
    "- Then try out several classifiers and see if you can build a great spam classifier, with both high recall and high precision."
   ]
  },
  {
   "cell_type": "markdown",
   "id": "3a1ea53b",
   "metadata": {},
   "source": [
    "# Get Data"
   ]
  },
  {
   "cell_type": "markdown",
   "id": "aaf901a5",
   "metadata": {},
   "source": [
    "## Download "
   ]
  },
  {
   "cell_type": "code",
   "execution_count": 8,
   "id": "dffa9d0a",
   "metadata": {},
   "outputs": [
    {
     "name": "stdout",
     "output_type": "stream",
     "text": [
      "spam_path datasets/spam\n"
     ]
    }
   ],
   "source": [
    "import os\n",
    "import tarfile\n",
    "import urllib.request\n",
    "\n",
    "download_root = 'https://spamassassin.apache.org/old/publiccorpus/'\n",
    "\n",
    "ham_url = download_root + '20030228_easy_ham.tar.bz2'\n",
    "spam_url = download_root + '20030228_spam.tar.bz2'\n",
    "\n",
    "spam_path = os.path.join('datasets/', 'spam')\n",
    "print(f'spam_path {spam_path}')\n",
    "      \n",
    "def fetch_spam_data(ham_url, spam_url, spam_path):\n",
    "    if not os.path.isdir(spam_path):\n",
    "        os.makedirs(spam_path)\n",
    "      \n",
    "    for filename, url in (('ham.tar.bz2', ham_url), ('spam.tar.bz2', spam_url)):\n",
    "      path = os.path.join(spam_path, filename)\n",
    "      \n",
    "      if not os.path.isfile(path):\n",
    "          urllib.request.urlretrieve(url, path)\n",
    "      tar_bz2_file = tarfile.open(path)\n",
    "      tar_bz2_file.extractall(path=spam_path)\n",
    "      tar_bz2_file.close()\n",
    "\n",
    "fetch_spam_data(ham_url, spam_url, spam_path)"
   ]
  },
  {
   "cell_type": "code",
   "execution_count": 12,
   "id": "cf0b9c8a",
   "metadata": {
    "scrolled": true
   },
   "outputs": [
    {
     "name": "stdout",
     "output_type": "stream",
     "text": [
      "n_ham: 2501\n",
      "n_spam: 501\n"
     ]
    }
   ],
   "source": [
    "ham_dir = os.path.join(spam_path, 'easy_ham')\n",
    "spam_dir = os.path.join(spam_path, 'spam')\n",
    "\n",
    "print(f\"n_ham: {len(os.listdir(ham_dir))}\")\n",
    "print(f'n_spam: {len(os.listdir(spam_dir))}')"
   ]
  },
  {
   "cell_type": "markdown",
   "id": "601ec966",
   "metadata": {},
   "source": [
    "- `spam` & `ham` set all contain a *cmd* file\n",
    "=> **n_ham** = 2500 & **n_spam** = 500"
   ]
  },
  {
   "cell_type": "markdown",
   "id": "af4fea6e",
   "metadata": {},
   "source": [
    "## Load"
   ]
  },
  {
   "cell_type": "code",
   "execution_count": 39,
   "id": "1431f476",
   "metadata": {},
   "outputs": [],
   "source": [
    "def files_from_folder(folder_path):\n",
    "    file_dirs = os.listdir(folder_path)\n",
    "    file_dirs.sort()\n",
    "    return [os.path.join(folder_path,filename) for filename in file_dirs]\n",
    "        \n",
    "ham_dirs = files_from_folder(ham_dir)[:-1]\n",
    "spam_dirs = files_from_folder(spam_dir)[:-1]"
   ]
  },
  {
   "cell_type": "code",
   "execution_count": 24,
   "id": "bdb1a26c",
   "metadata": {},
   "outputs": [],
   "source": [
    "import email\n",
    "import email.policy\n",
    "\n",
    "def load_email(file_dir):\n",
    "     with open(file_dir, \"rb\") as f:\n",
    "        return email.parser.BytesParser(policy=email.policy.default).parse(f)\n",
    "    \n",
    "email0 = load_email(ham_dirs[0])"
   ]
  },
  {
   "cell_type": "code",
   "execution_count": 42,
   "id": "60871e74",
   "metadata": {},
   "outputs": [
    {
     "data": {
      "text/plain": [
       "(2500,\n",
       " [<email.message.EmailMessage at 0x10611f310>,\n",
       "  <email.message.EmailMessage at 0x1076f5f10>,\n",
       "  <email.message.EmailMessage at 0x1066c3fd0>])"
      ]
     },
     "execution_count": 42,
     "metadata": {},
     "output_type": "execute_result"
    }
   ],
   "source": [
    "hams = [load_email(h_dir) for h_dir in ham_dirs]\n",
    "len(hams), hams[:3]"
   ]
  },
  {
   "cell_type": "code",
   "execution_count": 43,
   "id": "fb5440a3",
   "metadata": {},
   "outputs": [
    {
     "data": {
      "text/plain": [
       "(500,\n",
       " [<email.message.EmailMessage at 0x1067bf970>,\n",
       "  <email.message.EmailMessage at 0x106297dc0>,\n",
       "  <email.message.EmailMessage at 0x106032070>])"
      ]
     },
     "execution_count": 43,
     "metadata": {},
     "output_type": "execute_result"
    }
   ],
   "source": [
    "spams = [load_email(s_dir) for s_dir in spam_dirs]\n",
    "len(spams), spams[:3]"
   ]
  },
  {
   "cell_type": "code",
   "execution_count": 31,
   "id": "47d1e5e7",
   "metadata": {},
   "outputs": [
    {
     "name": "stdout",
     "output_type": "stream",
     "text": [
      "    Date:        Wed, 21 Aug 2002 10:54:46 -0500\n",
      "    From:        Chris Garrigues <cwg-dated-1030377287.06fa6d@DeepEddy.Com>\n",
      "    Message-ID:  <1029945287.4797.TMDA@deepeddy.vircio.com>\n",
      "\n",
      "\n",
      "  | I can't reproduce this error.\n",
      "\n",
      "For me it is very repeatable... (like every time, without fail).\n",
      "\n",
      "This is the debug log of the pick happening ...\n",
      "\n",
      "18:19:03 Pick_It {exec pick +inbox -list -lbrace -lbrace -subject ftp -rbrace -rbrace} {4852-4852 -sequence mercury}\n",
      "18:19:03 exec pick +inbox -list -lbrace -lbrace -subject ftp -rbrace -rbrace 4852-4852 -sequence mercury\n",
      "18:19:04 Ftoc_PickMsgs {{1 hit}}\n",
      "18:19:04 Marking 1 hits\n",
      "18:19:04 tkerror: syntax error in expression \"int ...\n",
      "\n",
      "Note, if I run the pick command by hand ...\n",
      "\n",
      "delta$ pick +inbox -list -lbrace -lbrace -subject ftp -rbrace -rbrace  4852-4852 -sequence mercury\n",
      "1 hit\n",
      "\n",
      "That's where the \"1 hit\" comes from (obviously).  The version of nmh I'm\n",
      "using is ...\n",
      "\n",
      "delta$ pick -version\n",
      "pick -- nmh-1.0.4 [compiled on fuchsia.cs.mu.OZ.AU at Sun Mar 17 14:55:56 ICT 2002]\n",
      "\n",
      "And the relevant part of my .mh_profile ...\n",
      "\n",
      "delta$ mhparam pick\n",
      "-seq sel -list\n",
      "\n",
      "\n",
      "Since the pick command works, the sequence (actually, both of them, the\n",
      "one that's explicit on the command line, from the search popup, and the\n",
      "one that comes from .mh_profile) do get created.\n",
      "\n",
      "kre\n",
      "\n",
      "ps: this is still using the version of the code form a day ago, I haven't\n",
      "been able to reach the cvs repository today (local routing issue I think).\n",
      "\n",
      "\n",
      "\n",
      "_______________________________________________\n",
      "Exmh-workers mailing list\n",
      "Exmh-workers@redhat.com\n",
      "https://listman.redhat.com/mailman/listinfo/exmh-workers\n",
      "\n",
      "\n"
     ]
    }
   ],
   "source": [
    "print(email0.get_content())"
   ]
  },
  {
   "cell_type": "markdown",
   "id": "42bb828c",
   "metadata": {},
   "source": [
    "# EDA"
   ]
  },
  {
   "cell_type": "code",
   "execution_count": 50,
   "id": "e99b89a4",
   "metadata": {},
   "outputs": [
    {
     "data": {
      "text/plain": [
       "'multipart(text/plain, application/pgp-signature)'"
      ]
     },
     "execution_count": 50,
     "metadata": {},
     "output_type": "execute_result"
    }
   ],
   "source": [
    "def get_email_structure(email):\n",
    "    if isinstance(email, str):\n",
    "        return email\n",
    "    payload = email.get_payload()\n",
    "    if isinstance(payload, list):\n",
    "        return \"multipart({})\".format(\", \".join([\n",
    "            get_email_structure(sub_email)\n",
    "            for sub_email in payload\n",
    "        ]))\n",
    "    else:\n",
    "        return email.get_content_type()\n",
    "    \n",
    "get_email_structure(hams[13])"
   ]
  },
  {
   "cell_type": "code",
   "execution_count": 53,
   "id": "346efe93",
   "metadata": {},
   "outputs": [],
   "source": [
    "structure_spam, structure_ham = [], []\n",
    "\n",
    "for ham in hams:\n",
    "    structure_ham.append(get_email_structure(ham))\n",
    "    \n",
    "for spam in spams:\n",
    "    structure_spam.append(get_email_structure(spam))"
   ]
  },
  {
   "cell_type": "code",
   "execution_count": 61,
   "id": "d1ffdb2b",
   "metadata": {},
   "outputs": [
    {
     "data": {
      "text/plain": [
       "text/plain                                                                             2408\n",
       "multipart(text/plain, application/pgp-signature)                                         66\n",
       "multipart(text/plain, text/html)                                                          8\n",
       "multipart(text/plain, text/plain)                                                         4\n",
       "multipart(text/plain)                                                                     3\n",
       "multipart(text/plain, application/octet-stream)                                           2\n",
       "multipart(multipart(text/plain, text/plain, text/plain), application/pgp-signature)       1\n",
       "multipart(text/plain, application/ms-tnef, text/plain)                                    1\n",
       "dtype: int64"
      ]
     },
     "execution_count": 61,
     "metadata": {},
     "output_type": "execute_result"
    }
   ],
   "source": [
    "import numpy as np\n",
    "import pandas as pd\n",
    "import matplotlib.pyplot as plt\n",
    "\n",
    "struct_ham = pd.DataFrame(structure_ham)\n",
    "struct_spam = pd.DataFrame(structure_spam)\n",
    "\n",
    "struct_ham.value_counts().head(8)"
   ]
  },
  {
   "cell_type": "code",
   "execution_count": 55,
   "id": "680f63c7",
   "metadata": {},
   "outputs": [
    {
     "data": {
      "text/plain": [
       "text/plain                                                               218\n",
       "text/html                                                                183\n",
       "multipart(text/plain, text/html)                                          45\n",
       "multipart(text/html)                                                      20\n",
       "multipart(text/plain)                                                     19\n",
       "multipart(multipart(text/html))                                            5\n",
       "multipart(text/plain, image/jpeg)                                          3\n",
       "multipart(text/html, application/octet-stream)                             2\n",
       "multipart(multipart(text/html), application/octet-stream, image/jpeg)      1\n",
       "multipart(multipart(text/plain, text/html), image/gif)                     1\n",
       "multipart(text/html, text/plain)                                           1\n",
       "multipart(text/plain, application/octet-stream)                            1\n",
       "multipart/alternative                                                      1\n",
       "dtype: int64"
      ]
     },
     "execution_count": 55,
     "metadata": {},
     "output_type": "execute_result"
    }
   ],
   "source": [
    "struct_spam.value_counts()"
   ]
  },
  {
   "cell_type": "markdown",
   "id": "d1060a6d",
   "metadata": {},
   "source": [
    "- Ham: \n",
    "    - plain_text: 96.32% (2408)\n",
    "    - text + pgp-signature: 0.264% (66)\n",
    "    - html: 0.32% (8)\n",
    "- Spam:\n",
    "    - plain_text: 43.6% (218)\n",
    "    - html: 36.6% (183)\n",
    "    - *include* pgp-signature: **0**\n",
    "    - text + html: 9% (45)"
   ]
  },
  {
   "cell_type": "code",
   "execution_count": null,
   "id": "c0b2fd38",
   "metadata": {},
   "outputs": [],
   "source": []
  }
 ],
 "metadata": {
  "kernelspec": {
   "display_name": "Python 3 (ipykernel)",
   "language": "python",
   "name": "python3"
  },
  "language_info": {
   "codemirror_mode": {
    "name": "ipython",
    "version": 3
   },
   "file_extension": ".py",
   "mimetype": "text/x-python",
   "name": "python",
   "nbconvert_exporter": "python",
   "pygments_lexer": "ipython3",
   "version": "3.8.9"
  }
 },
 "nbformat": 4,
 "nbformat_minor": 5
}
